{
 "cells": [
  {
   "cell_type": "code",
   "execution_count": null,
   "id": "ab15ec31-f905-4aa2-98df-3acb96474a73",
   "metadata": {},
   "outputs": [],
   "source": [
    "!pip install transformers==4.47.1 datasets accelerate"
   ]
  },
  {
   "cell_type": "code",
   "execution_count": null,
   "id": "c665765d-1958-454b-a207-ebd6755595b3",
   "metadata": {},
   "outputs": [],
   "source": [
    "!pip install protobuf sentencepiece peft wandb"
   ]
  },
  {
   "cell_type": "code",
   "execution_count": null,
   "id": "71b672a7-010d-4662-b059-ab27d08dcd4c",
   "metadata": {},
   "outputs": [],
   "source": [
    "pip install -U \"huggingface_hub[cli]\""
   ]
  },
  {
   "cell_type": "code",
   "execution_count": null,
   "id": "5c9f6996-df6d-4570-9382-ce3eebab82b3",
   "metadata": {},
   "outputs": [],
   "source": [
    "%%sh\n",
    "huggingface-cli login --token hf_"
   ]
  },
  {
   "cell_type": "code",
   "execution_count": null,
   "id": "02b852c6-7174-41b3-bad7-8952b1573a1a",
   "metadata": {},
   "outputs": [],
   "source": [
    "import os\n",
    "import torch\n",
    "from transformers import AutoModelForCausalLM, AutoTokenizer, Trainer, TrainingArguments, DataCollatorForLanguageModeling\n",
    "from datasets import load_dataset\n",
    "from peft import LoraConfig, get_peft_model, TaskType\n",
    "import wandb"
   ]
  },
  {
   "cell_type": "code",
   "execution_count": null,
   "id": "3c0899db-4a1d-4123-a33d-b05bf8ec4890",
   "metadata": {},
   "outputs": [],
   "source": [
    "wandb.init(project=\"ukrainian-to-hutsul-translation-mistralv03-synth\", entity=\"\")"
   ]
  },
  {
   "cell_type": "code",
   "execution_count": null,
   "id": "fecd23d2-1cf0-4c96-9fdf-15a0af4900ff",
   "metadata": {},
   "outputs": [],
   "source": [
    "model_name = \"mistralai/Mistral-7B-Instruct-v0.3\"\n",
    "tokenizer = AutoTokenizer.from_pretrained(model_name)\n",
    "\n",
    "model = AutoModelForCausalLM.from_pretrained(\n",
    "    model_name,\n",
    "    torch_dtype=torch.float16,\n",
    "    device_map=\"auto\"\n",
    ")"
   ]
  },
  {
   "cell_type": "code",
   "execution_count": null,
   "id": "b86dcded-fe92-424a-8d2e-9ed0f1ce8844",
   "metadata": {},
   "outputs": [],
   "source": [
    "lora_config = LoraConfig(\n",
    "    task_type=TaskType.CAUSAL_LM,\n",
    "    r=8,                       \n",
    "    lora_alpha=32,          \n",
    "    lora_dropout=0.1,        \n",
    "    target_modules=[\"q_proj\", \"v_proj\"]\n",
    ")\n",
    "model = get_peft_model(model, lora_config)\n",
    "print(\"LoRA trainable parameters:\")\n",
    "model.print_trainable_parameters()"
   ]
  },
  {
   "cell_type": "code",
   "execution_count": null,
   "id": "8dd53af5-b51c-42e2-ab2a-8c5f5fb533cb",
   "metadata": {},
   "outputs": [],
   "source": [
    "data_files = {\n",
    "    \"train\": \"merged_final_combined.json\",\n",
    "    \"test\": \"test_ivanchyk.json\" \n",
    "}\n",
    "dataset = load_dataset(\"json\", data_files=data_files)\n"
   ]
  },
  {
   "cell_type": "code",
   "execution_count": null,
   "id": "857822a3-6c5e-4ab0-9f70-b279a9115675",
   "metadata": {},
   "outputs": [],
   "source": [
    "def format_example(example):\n",
    "    prompt = f\"Translate the following Ukrainian sentence into the Hutsul dialect:\\n\\n{example['source']}\\n\\nAnswer:\"\n",
    "    full_text = prompt + \" \" + example[\"target\"]\n",
    "    return {\"text\": full_text}\n",
    "\n",
    "formatted_dataset = dataset.map(format_example, remove_columns=dataset[\"train\"].column_names)\n"
   ]
  },
  {
   "cell_type": "code",
   "execution_count": null,
   "id": "cbca7fa2-08d2-446c-8d16-eddd3c537bc4",
   "metadata": {},
   "outputs": [],
   "source": [
    "def tokenize_function(examples):\n",
    "    return tokenizer(examples[\"text\"], truncation=True, max_length=512)\n",
    "\n",
    "tokenized_dataset = formatted_dataset.map(tokenize_function, batched=True)\n",
    "tokenized_dataset = tokenized_dataset.remove_columns([\"text\"])\n",
    "tokenized_dataset.set_format(\"torch\")\n",
    "data_collator = DataCollatorForLanguageModeling(tokenizer=tokenizer, mlm=False)\n"
   ]
  },
  {
   "cell_type": "code",
   "execution_count": null,
   "id": "815930f1-d0e3-4a73-a34a-21dc0c668d71",
   "metadata": {},
   "outputs": [],
   "source": [
    "training_args = TrainingArguments(\n",
    "    output_dir=\"./mistral-translation-lora-finetune-synt\",\n",
    "    overwrite_output_dir=True,\n",
    "    num_train_epochs=3,                 \n",
    "    per_device_train_batch_size=1,       \n",
    "    gradient_accumulation_steps=64,   \n",
    "    evaluation_strategy=\"steps\",\n",
    "    eval_steps=100,\n",
    "    learning_rate=5e-5,                 \n",
    "    weight_decay=0.01,\n",
    "    fp16=True,                            \n",
    "    save_total_limit=3,\n",
    "    logging_steps=10,\n",
    "    save_steps=100,\n",
    "    report_to=[\"wandb\"]                  \n",
    ")"
   ]
  },
  {
   "cell_type": "code",
   "execution_count": null,
   "id": "67b6402d-2e27-4658-8276-0f81823a9b6c",
   "metadata": {},
   "outputs": [],
   "source": [
    "tokenizer.pad_token = tokenizer.eos_token"
   ]
  },
  {
   "cell_type": "code",
   "execution_count": null,
   "id": "9b6d04c7-e523-4a21-86ef-246882b3bcf8",
   "metadata": {},
   "outputs": [],
   "source": [
    "class AveragingTrainer(Trainer):\n",
    "    def compute_loss(self, model, inputs, return_outputs=False,**kwargs):\n",
    "        outputs = model(**inputs)\n",
    "        loss = outputs.loss  \n",
    "        input_ids = inputs.get(\"input_ids\")\n",
    "        if input_ids is not None:\n",
    "            loss = loss / input_ids.shape[1]\n",
    "        return (loss, outputs) if return_outputs else loss"
   ]
  },
  {
   "cell_type": "code",
   "execution_count": null,
   "id": "d9e37769-e053-49c4-9aa2-e921800bc46f",
   "metadata": {},
   "outputs": [],
   "source": [
    "trainer = Trainer(\n",
    "    model=model,\n",
    "    args=training_args,\n",
    "    train_dataset=tokenized_dataset[\"train\"],\n",
    "    eval_dataset=tokenized_dataset.get(\"test\"),  # if evaluation data exists\n",
    "    data_collator=data_collator\n",
    ")"
   ]
  },
  {
   "cell_type": "code",
   "execution_count": null,
   "id": "b1c275e0-0797-49e2-a728-b864ab645dc3",
   "metadata": {},
   "outputs": [],
   "source": [
    "trainer.train()\n",
    "model.save_pretrained(\"./mistral-translation-lora-finetuned-s\")\n",
    "tokenizer.save_pretrained(\"./mistral-translation-lora-finetuned-s\")"
   ]
  }
 ],
 "metadata": {
  "kernelspec": {
   "display_name": "Python 3 (ipykernel)",
   "language": "python",
   "name": "python3"
  },
  "language_info": {
   "codemirror_mode": {
    "name": "ipython",
    "version": 3
   },
   "file_extension": ".py",
   "mimetype": "text/x-python",
   "name": "python",
   "nbconvert_exporter": "python",
   "pygments_lexer": "ipython3",
   "version": "3.10.12"
  }
 },
 "nbformat": 4,
 "nbformat_minor": 5
}
