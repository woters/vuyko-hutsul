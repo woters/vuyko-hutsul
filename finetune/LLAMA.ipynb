{
 "cells": [
  {
   "cell_type": "code",
   "execution_count": null,
   "id": "b6c55aaa-df8c-4e3b-b9b1-8011393f089f",
   "metadata": {},
   "outputs": [],
   "source": [
    "import torch\n",
    "from transformers import AutoModelForCausalLM, AutoTokenizer, TrainingArguments, DataCollatorForLanguageModeling, Trainer\n",
    "from datasets import load_dataset\n",
    "from peft import LoraConfig, get_peft_model, TaskType\n",
    "import wandb"
   ]
  },
  {
   "cell_type": "code",
   "execution_count": null,
   "id": "a0fb5e05-a9af-44a3-9ce9-40401c3b4ec5",
   "metadata": {},
   "outputs": [],
   "source": [
    "model_name = \"meta-llama/Llama-3.1-8B-Instruct\"\n",
    "tokenizer = AutoTokenizer.from_pretrained(model_name)"
   ]
  },
  {
   "cell_type": "code",
   "execution_count": null,
   "id": "697a3fb5-f2b1-459a-8fff-7758c7a1ae25",
   "metadata": {},
   "outputs": [],
   "source": [
    "if tokenizer.pad_token is None:\n",
    "    tokenizer.pad_token = tokenizer.eos_token\n",
    "\n",
    "model = AutoModelForCausalLM.from_pretrained(\n",
    "    model_name,\n",
    "    torch_dtype=torch.float16,\n",
    "    device_map=\"auto\"\n",
    ")\n",
    "\n",
    "lora_config = LoraConfig(\n",
    "    task_type=TaskType.CAUSAL_LM, \n",
    "    r=8,                       \n",
    "    lora_alpha=32,            \n",
    "    lora_dropout=0.1,          \n",
    "    target_modules=[\"q_proj\", \"v_proj\"] \n",
    ")\n",
    "model = get_peft_model(model, lora_config)\n",
    "print(\"LoRA trainable parameters:\")\n",
    "model.print_trainable_parameters()"
   ]
  },
  {
   "cell_type": "code",
   "execution_count": null,
   "id": "0b4bd7e5-898f-45e5-9895-d77ab4a602e5",
   "metadata": {},
   "outputs": [],
   "source": [
    "data_files = {\n",
    "    \"train\": \"merged_final_combined.json\",\n",
    "    \"test\": \"test_ivanchyk.json\"  \n",
    "}\n",
    "dataset = load_dataset(\"json\", data_files=data_files)"
   ]
  },
  {
   "cell_type": "code",
   "execution_count": null,
   "id": "72de5f6f-76de-4469-bcdc-759c561cb692",
   "metadata": {},
   "outputs": [],
   "source": [
    "def format_example(example):\n",
    "    prompt = (\n",
    "        \"Translate the following Ukrainian sentence into the Hutsul dialect:\\n\\n\"\n",
    "        f\"{example['source']}\\n\\n\"\n",
    "        \"Answer:\"\n",
    "    )\n",
    "    full_text = prompt + \" \" + example[\"target\"]\n",
    "    return {\"text\": full_text}\n"
   ]
  },
  {
   "cell_type": "code",
   "execution_count": null,
   "id": "3be02616-7838-4ee7-a0a0-4ebd9e1d1b49",
   "metadata": {},
   "outputs": [],
   "source": [
    "formatted_dataset = dataset.map(format_example, remove_columns=dataset[\"train\"].column_names)"
   ]
  },
  {
   "cell_type": "code",
   "execution_count": null,
   "id": "2566d2b4-36f3-40b6-8aa6-099c2ac191ff",
   "metadata": {},
   "outputs": [],
   "source": [
    "def tokenize_function(examples):\n",
    "    return tokenizer(examples[\"text\"], truncation=True, max_length=512)\n",
    "\n",
    "tokenized_dataset = formatted_dataset.map(tokenize_function, batched=True)\n",
    "tokenized_dataset = tokenized_dataset.remove_columns([\"text\"])\n",
    "tokenized_dataset.set_format(\"torch\")"
   ]
  },
  {
   "cell_type": "code",
   "execution_count": null,
   "id": "8c7a96ac-0f65-4330-b605-fa735cf8fd3c",
   "metadata": {},
   "outputs": [],
   "source": [
    "data_collator = DataCollatorForLanguageModeling(tokenizer=tokenizer, mlm=False)\n",
    "\n",
    "training_args = TrainingArguments(\n",
    "    output_dir=\"./llama-translation-lora-finetuned-s\",\n",
    "    overwrite_output_dir=True,\n",
    "    num_train_epochs=3,                  \n",
    "    per_device_train_batch_size=1,        \n",
    "    gradient_accumulation_steps=64,      \n",
    "    learning_rate=5e-5,                 \n",
    "    weight_decay=0.01,\n",
    "    fp16=True,                          \n",
    "    save_total_limit=3,\n",
    "    logging_steps=10,\n",
    "    save_steps=100,\n",
    "    report_to=[\"wandb\"]                 \n",
    ")"
   ]
  },
  {
   "cell_type": "code",
   "execution_count": null,
   "id": "32f42e82-3136-4c98-865a-9564d48f7a5c",
   "metadata": {},
   "outputs": [],
   "source": [
    "class AveragingTrainer(Trainer):\n",
    "    def compute_loss(self, model, inputs, return_outputs=False, **kwargs):\n",
    "        outputs = model(**inputs)\n",
    "        loss = outputs.loss\n",
    "        input_ids = inputs.get(\"input_ids\")\n",
    "        if input_ids is not None:\n",
    "            loss = loss / input_ids.shape[1]\n",
    "        return (loss, outputs) if return_outputs else loss\n",
    "\n",
    "trainer = AveragingTrainer(\n",
    "    model=model,\n",
    "    args=training_args,\n",
    "    train_dataset=tokenized_dataset[\"train\"],\n",
    "    eval_dataset=tokenized_dataset.get(\"test\"),\n",
    "    data_collator=data_collator\n",
    ")\n",
    "\n",
    "trainer.train()\n",
    "\n",
    "model.save_pretrained(\"./llama-translation-lora-finetuned-s\")\n",
    "tokenizer.save_pretrained(\"./llama-translation-lora-finetuned-s\")"
   ]
  }
 ],
 "metadata": {
  "kernelspec": {
   "display_name": "Python 3 (ipykernel)",
   "language": "python",
   "name": "python3"
  },
  "language_info": {
   "codemirror_mode": {
    "name": "ipython",
    "version": 3
   },
   "file_extension": ".py",
   "mimetype": "text/x-python",
   "name": "python",
   "nbconvert_exporter": "python",
   "pygments_lexer": "ipython3",
   "version": "3.10.12"
  }
 },
 "nbformat": 4,
 "nbformat_minor": 5
}
